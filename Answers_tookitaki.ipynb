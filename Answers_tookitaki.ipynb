{
 "cells": [
  {
   "cell_type": "markdown",
   "metadata": {},
   "source": [
    "## Problem 1 a. : Expected Winnings "
   ]
  },
  {
   "cell_type": "markdown",
   "metadata": {},
   "source": [
    "a)\tIf the dice is rolled only once and get rewarded: Each roll is equally likely, so it will show 1,2,3,4,5,6 with equal probability. The reward is (1/6+2/6+3/6+4/6+5/6+6/6) = $3.5 \n",
    "\n",
    "if I roll the second time, the expected outcome will be \n",
    "\n",
    "If first roll = 1: outcome= 3.5 x (1/6) + (2+3+4+5+6)/5 x (5/6) = 47/12\n",
    "\n",
    "If first roll = 2: outcome= 3.5 x(2/6) + (3+4+5+6)/4 x (4/6) = 50/12 \n",
    "\n",
    "If first roll  = 3: outcome= 3.5 x (3/6)+ (4+5+6)/3 x (3/6)= 51/12 \n",
    "\n",
    "If first roll = 4: outcome= 3.5 x (4/6) + (5+6)/2 x (2/6) = 50/12\n",
    "\n",
    "If first roll = 5: outcome= 3.5 x (5/6) + 6 x 1/6 = 47/12 \n",
    "\n",
    "If first roll = 6: outcome= 3.5 x (6/6) = 42/12  \n",
    "\n",
    "\n",
    "Therefore anything <=3 in the first roll should go for next roll\n",
    "\n"
   ]
  },
  {
   "cell_type": "markdown",
   "metadata": {},
   "source": [
    "## Problem 1 b. : Expected Winnings "
   ]
  },
  {
   "cell_type": "code",
   "execution_count": 236,
   "metadata": {},
   "outputs": [
    {
     "name": "stdout",
     "output_type": "stream",
     "text": [
      "1\n",
      "2\n",
      "3\n",
      "4\n",
      "5\n",
      "if you get anything <= 4 , go for another pickup\n"
     ]
    }
   ],
   "source": [
    "def myfunction(N,M):\n",
    "    one_time_pickup=sum(N)/len(N)\n",
    "    Z1=0\n",
    "    l=N.copy()\n",
    "    for i in range(1,M+1):\n",
    "        print(i)\n",
    "        l.remove(i)\n",
    "        s=sum(l)\n",
    "        Z= (one_time_pickup * (i/len(N))) + (s/(len(N)-i)) * ((len(N)-i)/len(N))\n",
    "        if (Z1<Z):\n",
    "            Z1=Z\n",
    "            y=i\n",
    "    return(y)\n",
    "\n",
    "threshold=myfunction([1,2,3,4,5,6,7,8],5)\n",
    "print( \"if you get anything <=\", threshold, \", go for another pickup\")"
   ]
  },
  {
   "cell_type": "markdown",
   "metadata": {},
   "source": [
    "## Problem 2: Simple Cycle with Max Accumulated Value"
   ]
  },
  {
   "cell_type": "code",
   "execution_count": 237,
   "metadata": {},
   "outputs": [],
   "source": [
    "import pandas as pd\n",
    "import networkx as nx"
   ]
  },
  {
   "cell_type": "code",
   "execution_count": 238,
   "metadata": {},
   "outputs": [],
   "source": [
    "df= pd.read_csv(\"C:/Users/riya.agrawal/Downloads/data_Problem2.csv\")"
   ]
  },
  {
   "cell_type": "code",
   "execution_count": 239,
   "metadata": {},
   "outputs": [],
   "source": [
    "df[\"FROM_NODE\"]=[str(i) for i in df[\"FROM_NODE\"]]\n",
    "\n",
    "df[\"TO_NODE\"]=[str(i) for i in df[\"TO_NODE\"]]\n",
    "\n",
    "df[\"tuple_noded\"]=df[[\"FROM_NODE\",\"TO_NODE\"]].apply(tuple, axis=1)\n",
    "\n",
    "list_edges=list(df[\"tuple_noded\"])"
   ]
  },
  {
   "cell_type": "code",
   "execution_count": 240,
   "metadata": {},
   "outputs": [],
   "source": [
    "G=nx.DiGraph()\n",
    "\n",
    "G.add_edges_from(list_edges)"
   ]
  },
  {
   "cell_type": "code",
   "execution_count": 241,
   "metadata": {},
   "outputs": [
    {
     "name": "stdout",
     "output_type": "stream",
     "text": [
      "Simple cycles in the data are:\n",
      "['157', '160', '177', '76', '157']\n",
      "['76', '157', '160', '177', '76']\n",
      "['157', '160', '171', '76', '157']\n",
      "['76', '157', '160', '171', '76']\n",
      "['171', '76', '137', '160', '171']\n",
      "['160', '171', '76', '137', '160']\n",
      "['76', '137', '160', '177', '76']\n",
      "['177', '76', '137', '160', '177']\n",
      "\n",
      "path with highest trans= ['157', '160', '171', '76', '157']\n",
      "\n",
      "highest transaction: 317766.111099\n"
     ]
    }
   ],
   "source": [
    "s1=0\n",
    "print(\"Simple cycles in the data are:\")\n",
    "cycles=list(nx.simple_cycles(G))\n",
    "\n",
    "for path in cycles:\n",
    "    if (len(path)==4):\n",
    "        p1=path.copy()\n",
    "        p2=path.copy()\n",
    "        p1.insert(4,path[0])\n",
    "        p2.insert(0,path[3])\n",
    "        print(p1)\n",
    "        print(p2)\n",
    "        for p in [p1,p2]:\n",
    "            s=0\n",
    "            for k in range(4):\n",
    "                df[\"check\"]=np.where(df[\"tuple_noded\"]==(p[k],p[k+1]),\"true\",\"null\")\n",
    "                v=df[\"VALUE\"][df[\"check\"]==\"true\"].values[0]\n",
    "                s=s+v\n",
    "            if(s>s1):\n",
    "                s1=s\n",
    "                idle_path=p\n",
    "print(\"\\npath with highest trans=\", idle_path) \n",
    "print(\"\\nhighest transaction:\",s1)\n",
    "                \n",
    " "
   ]
  }
 ],
 "metadata": {
  "kernelspec": {
   "display_name": "Python 3",
   "language": "python",
   "name": "python3"
  },
  "language_info": {
   "codemirror_mode": {
    "name": "ipython",
    "version": 3
   },
   "file_extension": ".py",
   "mimetype": "text/x-python",
   "name": "python",
   "nbconvert_exporter": "python",
   "pygments_lexer": "ipython3",
   "version": "3.6.7"
  }
 },
 "nbformat": 4,
 "nbformat_minor": 2
}
